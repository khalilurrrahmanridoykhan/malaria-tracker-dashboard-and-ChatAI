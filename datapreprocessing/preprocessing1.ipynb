{
 "cells": [
  {
   "cell_type": "code",
   "execution_count": 36,
   "metadata": {},
   "outputs": [
    {
     "name": "stdout",
     "output_type": "stream",
     "text": [
      "<class 'pandas.core.frame.DataFrame'>\n",
      "RangeIndex: 2518 entries, 0 to 2517\n",
      "Data columns (total 39 columns):\n",
      " #   Column                         Non-Null Count  Dtype  \n",
      "---  ------                         --------------  -----  \n",
      " 0   Unnamed: 0                     2518 non-null   int64  \n",
      " 1   Type_of_test                   2518 non-null   object \n",
      " 2   Lab_Name                       55 non-null     object \n",
      " 3   Name_Of_The_Institution        2496 non-null   object \n",
      " 4   Union                          2496 non-null   float64\n",
      " 5   Ward                           2496 non-null   float64\n",
      " 6   AP_CODE                        2518 non-null   int64  \n",
      " 7   Patient_Age                    2518 non-null   int64  \n",
      " 8   Patient_Weight                 582 non-null    float64\n",
      " 9   Patient_Gender                 2518 non-null   object \n",
      " 10  Pregnant                       2518 non-null   object \n",
      " 11  Occupation                     2496 non-null   object \n",
      " 12  Race_Group                     564 non-null    object \n",
      " 13  No_household_suffered_Malaria  563 non-null    object \n",
      " 14  Type_of_disease                2518 non-null   object \n",
      " 15  Severe_Malaria                 2518 non-null   object \n",
      " 16  Treatment_RDT                  860 non-null    object \n",
      " 17  Treatment_BSE                  55 non-null     object \n",
      " 18  Patient_is_referred            561 non-null    object \n",
      " 19  Date_of_doing_test             2496 non-null   object \n",
      " 20  Date_of_Initiation_Treatment   2496 non-null   object \n",
      " 21  submission_time                2496 non-null   object \n",
      " 22  Case_identification            2518 non-null   object \n",
      " 23  Patient_comes_from             582 non-null    object \n",
      " 24  Number_of_LLIN_House           582 non-null    float64\n",
      " 25  Used_LLIN_15_days              560 non-null    object \n",
      " 26  patient_latitude               446 non-null    float64\n",
      " 27  patient_longitude              446 non-null    float64\n",
      " 28  Lab_location_latitude          52 non-null     float64\n",
      " 29  Lab_location_longitude         52 non-null     float64\n",
      " 30  Phone                          22 non-null     float64\n",
      " 31  Date                           22 non-null     object \n",
      " 32  Type                           2518 non-null   object \n",
      " 33  agegroup                       2518 non-null   object \n",
      " 34  test_report                    2496 non-null   object \n",
      " 35  test_treatment                 2496 non-null   object \n",
      " 36  latitude                       498 non-null    float64\n",
      " 37  longitude                      498 non-null    float64\n",
      " 38  dt_filter                      2518 non-null   object \n",
      "dtypes: float64(11), int64(3), object(25)\n",
      "memory usage: 767.3+ KB\n",
      "None\n"
     ]
    }
   ],
   "source": [
    "import pandas as pd\n",
    "\n",
    "df = pd.read_csv('../data/visualization.csv')\n",
    "\n",
    "print(df.info())\n"
   ]
  },
  {
   "cell_type": "code",
   "execution_count": 37,
   "metadata": {},
   "outputs": [
    {
     "name": "stdout",
     "output_type": "stream",
     "text": [
      "<class 'pandas.core.frame.DataFrame'>\n",
      "RangeIndex: 2518 entries, 0 to 2517\n",
      "Data columns (total 25 columns):\n",
      " #   Column                        Non-Null Count  Dtype  \n",
      "---  ------                        --------------  -----  \n",
      " 0   Unnamed: 0                    2518 non-null   int64  \n",
      " 1   Type_of_test                  2518 non-null   object \n",
      " 2   Name_Of_The_Institution       2496 non-null   object \n",
      " 3   Union                         2496 non-null   float64\n",
      " 4   Ward                          2496 non-null   float64\n",
      " 5   AP_CODE                       2518 non-null   int64  \n",
      " 6   Patient_Age                   2518 non-null   int64  \n",
      " 7   Patient_Weight                582 non-null    float64\n",
      " 8   Patient_Gender                2518 non-null   object \n",
      " 9   Occupation                    2496 non-null   object \n",
      " 10  Race_Group                    564 non-null    object \n",
      " 11  Type_of_disease               2518 non-null   object \n",
      " 12  Patient_is_referred           561 non-null    object \n",
      " 13  Date_of_doing_test            2496 non-null   object \n",
      " 14  Date_of_Initiation_Treatment  2496 non-null   object \n",
      " 15  submission_time               2496 non-null   object \n",
      " 16  Case_identification           2518 non-null   object \n",
      " 17  Patient_comes_from            582 non-null    object \n",
      " 18  Number_of_LLIN_House          582 non-null    float64\n",
      " 19  Used_LLIN_15_days             560 non-null    object \n",
      " 20  Type                          2518 non-null   object \n",
      " 21  agegroup                      2518 non-null   object \n",
      " 22  latitude                      498 non-null    float64\n",
      " 23  longitude                     498 non-null    float64\n",
      " 24  dt_filter                     2518 non-null   object \n",
      "dtypes: float64(6), int64(3), object(16)\n",
      "memory usage: 491.9+ KB\n",
      "None\n"
     ]
    }
   ],
   "source": [
    "df = df.drop(columns=['Lab_Name', 'Pregnant', 'No_household_suffered_Malaria','Severe_Malaria','Treatment_RDT','Treatment_BSE','patient_latitude','patient_longitude','Lab_location_latitude','Lab_location_longitude','Phone','Date','test_report', 'test_treatment'])\n",
    "print(df.info())\n"
   ]
  },
  {
   "cell_type": "code",
   "execution_count": 42,
   "metadata": {},
   "outputs": [
    {
     "name": "stdout",
     "output_type": "stream",
     "text": [
      "agegroup\n",
      "11-20    185\n",
      "21-30    119\n",
      "<10       81\n",
      "31-40     59\n",
      "41-50     28\n",
      "51-60     17\n",
      "61-70      8\n",
      "71-80      1\n",
      "Name: count, dtype: int64\n"
     ]
    }
   ],
   "source": [
    "type_of_test_counts = df['agegroup'].value_counts()\n",
    "print(type_of_test_counts)"
   ]
  },
  {
   "cell_type": "code",
   "execution_count": 43,
   "metadata": {},
   "outputs": [
    {
     "name": "stdout",
     "output_type": "stream",
     "text": [
      "0\n"
     ]
    }
   ],
   "source": [
    "null_count_occupation = df['agegroup'].isnull().sum()\n",
    "print(null_count_occupation)"
   ]
  },
  {
   "cell_type": "code",
   "execution_count": 40,
   "metadata": {},
   "outputs": [
    {
     "name": "stdout",
     "output_type": "stream",
     "text": [
      "<class 'pandas.core.frame.DataFrame'>\n",
      "Index: 498 entries, 0 to 558\n",
      "Data columns (total 25 columns):\n",
      " #   Column                        Non-Null Count  Dtype  \n",
      "---  ------                        --------------  -----  \n",
      " 0   Unnamed: 0                    498 non-null    int64  \n",
      " 1   Type_of_test                  498 non-null    object \n",
      " 2   Name_Of_The_Institution       498 non-null    object \n",
      " 3   Union                         498 non-null    float64\n",
      " 4   Ward                          498 non-null    float64\n",
      " 5   AP_CODE                       498 non-null    int64  \n",
      " 6   Patient_Age                   498 non-null    int64  \n",
      " 7   Patient_Weight                498 non-null    float64\n",
      " 8   Patient_Gender                498 non-null    object \n",
      " 9   Occupation                    498 non-null    object \n",
      " 10  Race_Group                    498 non-null    object \n",
      " 11  Type_of_disease               498 non-null    object \n",
      " 12  Patient_is_referred           498 non-null    object \n",
      " 13  Date_of_doing_test            498 non-null    object \n",
      " 14  Date_of_Initiation_Treatment  498 non-null    object \n",
      " 15  submission_time               498 non-null    object \n",
      " 16  Case_identification           498 non-null    object \n",
      " 17  Patient_comes_from            498 non-null    object \n",
      " 18  Number_of_LLIN_House          498 non-null    float64\n",
      " 19  Used_LLIN_15_days             498 non-null    object \n",
      " 20  Type                          498 non-null    object \n",
      " 21  agegroup                      498 non-null    object \n",
      " 22  latitude                      498 non-null    float64\n",
      " 23  longitude                     498 non-null    float64\n",
      " 24  dt_filter                     498 non-null    object \n",
      "dtypes: float64(6), int64(3), object(16)\n",
      "memory usage: 101.2+ KB\n",
      "None\n"
     ]
    }
   ],
   "source": [
    "df = df.dropna(subset=['latitude'])\n",
    "print(df.info())"
   ]
  },
  {
   "cell_type": "code",
   "execution_count": 44,
   "metadata": {},
   "outputs": [],
   "source": [
    "df.to_csv('../data/updated_visualization.csv', index=False)"
   ]
  }
 ],
 "metadata": {
  "kernelspec": {
   "display_name": ".venv",
   "language": "python",
   "name": "python3"
  },
  "language_info": {
   "codemirror_mode": {
    "name": "ipython",
    "version": 3
   },
   "file_extension": ".py",
   "mimetype": "text/x-python",
   "name": "python",
   "nbconvert_exporter": "python",
   "pygments_lexer": "ipython3",
   "version": "3.12.1"
  }
 },
 "nbformat": 4,
 "nbformat_minor": 2
}
