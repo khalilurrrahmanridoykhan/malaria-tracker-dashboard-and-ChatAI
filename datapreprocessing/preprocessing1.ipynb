{
 "cells": [
  {
   "cell_type": "code",
   "execution_count": 1,
   "metadata": {},
   "outputs": [
    {
     "name": "stdout",
     "output_type": "stream",
     "text": [
      "<class 'pandas.core.frame.DataFrame'>\n",
      "RangeIndex: 2518 entries, 0 to 2517\n",
      "Data columns (total 39 columns):\n",
      " #   Column                         Non-Null Count  Dtype  \n",
      "---  ------                         --------------  -----  \n",
      " 0   Unnamed: 0                     2518 non-null   int64  \n",
      " 1   Type_of_test                   2518 non-null   object \n",
      " 2   Lab_Name                       55 non-null     object \n",
      " 3   Name_Of_The_Institution        2496 non-null   object \n",
      " 4   Union                          2496 non-null   float64\n",
      " 5   Ward                           2496 non-null   float64\n",
      " 6   AP_CODE                        2518 non-null   int64  \n",
      " 7   Patient_Age                    2518 non-null   int64  \n",
      " 8   Patient_Weight                 582 non-null    float64\n",
      " 9   Patient_Gender                 2518 non-null   object \n",
      " 10  Pregnant                       2518 non-null   object \n",
      " 11  Occupation                     2496 non-null   object \n",
      " 12  Race_Group                     564 non-null    object \n",
      " 13  No_household_suffered_Malaria  563 non-null    object \n",
      " 14  Type_of_disease                2518 non-null   object \n",
      " 15  Severe_Malaria                 2518 non-null   object \n",
      " 16  Treatment_RDT                  860 non-null    object \n",
      " 17  Treatment_BSE                  55 non-null     object \n",
      " 18  Patient_is_referred            561 non-null    object \n",
      " 19  Date_of_doing_test             2496 non-null   object \n",
      " 20  Date_of_Initiation_Treatment   2496 non-null   object \n",
      " 21  submission_time                2496 non-null   object \n",
      " 22  Case_identification            2518 non-null   object \n",
      " 23  Patient_comes_from             582 non-null    object \n",
      " 24  Number_of_LLIN_House           582 non-null    float64\n",
      " 25  Used_LLIN_15_days              560 non-null    object \n",
      " 26  patient_latitude               446 non-null    float64\n",
      " 27  patient_longitude              446 non-null    float64\n",
      " 28  Lab_location_latitude          52 non-null     float64\n",
      " 29  Lab_location_longitude         52 non-null     float64\n",
      " 30  Phone                          22 non-null     float64\n",
      " 31  Date                           22 non-null     object \n",
      " 32  Type                           2518 non-null   object \n",
      " 33  agegroup                       2518 non-null   object \n",
      " 34  test_report                    2496 non-null   object \n",
      " 35  test_treatment                 2496 non-null   object \n",
      " 36  latitude                       498 non-null    float64\n",
      " 37  longitude                      498 non-null    float64\n",
      " 38  dt_filter                      2518 non-null   object \n",
      "dtypes: float64(11), int64(3), object(25)\n",
      "memory usage: 767.3+ KB\n",
      "None\n"
     ]
    }
   ],
   "source": [
    "import pandas as pd\n",
    "\n",
    "df = pd.read_csv('../data/visualization.csv')\n",
    "\n",
    "print(df.info())\n"
   ]
  },
  {
   "cell_type": "code",
   "execution_count": 37,
   "metadata": {},
   "outputs": [
    {
     "name": "stdout",
     "output_type": "stream",
     "text": [
      "<class 'pandas.core.frame.DataFrame'>\n",
      "RangeIndex: 2518 entries, 0 to 2517\n",
      "Data columns (total 25 columns):\n",
      " #   Column                        Non-Null Count  Dtype  \n",
      "---  ------                        --------------  -----  \n",
      " 0   Unnamed: 0                    2518 non-null   int64  \n",
      " 1   Type_of_test                  2518 non-null   object \n",
      " 2   Name_Of_The_Institution       2496 non-null   object \n",
      " 3   Union                         2496 non-null   float64\n",
      " 4   Ward                          2496 non-null   float64\n",
      " 5   AP_CODE                       2518 non-null   int64  \n",
      " 6   Patient_Age                   2518 non-null   int64  \n",
      " 7   Patient_Weight                582 non-null    float64\n",
      " 8   Patient_Gender                2518 non-null   object \n",
      " 9   Occupation                    2496 non-null   object \n",
      " 10  Race_Group                    564 non-null    object \n",
      " 11  Type_of_disease               2518 non-null   object \n",
      " 12  Patient_is_referred           561 non-null    object \n",
      " 13  Date_of_doing_test            2496 non-null   object \n",
      " 14  Date_of_Initiation_Treatment  2496 non-null   object \n",
      " 15  submission_time               2496 non-null   object \n",
      " 16  Case_identification           2518 non-null   object \n",
      " 17  Patient_comes_from            582 non-null    object \n",
      " 18  Number_of_LLIN_House          582 non-null    float64\n",
      " 19  Used_LLIN_15_days             560 non-null    object \n",
      " 20  Type                          2518 non-null   object \n",
      " 21  agegroup                      2518 non-null   object \n",
      " 22  latitude                      498 non-null    float64\n",
      " 23  longitude                     498 non-null    float64\n",
      " 24  dt_filter                     2518 non-null   object \n",
      "dtypes: float64(6), int64(3), object(16)\n",
      "memory usage: 491.9+ KB\n",
      "None\n"
     ]
    }
   ],
   "source": [
    "df = df.drop(columns=['Lab_Name', 'Pregnant', 'No_household_suffered_Malaria','Severe_Malaria','Treatment_RDT','Treatment_BSE','patient_latitude','patient_longitude','Lab_location_latitude','Lab_location_longitude','Phone','Date','test_report', 'test_treatment'])\n",
    "print(df.info())\n"
   ]
  },
  {
   "cell_type": "code",
   "execution_count": 46,
   "metadata": {},
   "outputs": [
    {
     "name": "stdout",
     "output_type": "stream",
     "text": [
      "division\n",
      "Chattogram    498\n",
      "Name: count, dtype: int64\n"
     ]
    }
   ],
   "source": [
    "type_of_test_counts = df['division'].value_counts()\n",
    "print(type_of_test_counts)"
   ]
  },
  {
   "cell_type": "code",
   "execution_count": 43,
   "metadata": {},
   "outputs": [
    {
     "name": "stdout",
     "output_type": "stream",
     "text": [
      "0\n"
     ]
    }
   ],
   "source": [
    "null_count_occupation = df['agegroup'].isnull().sum()\n",
    "print(null_count_occupation)"
   ]
  },
  {
   "cell_type": "code",
   "execution_count": 40,
   "metadata": {},
   "outputs": [
    {
     "name": "stdout",
     "output_type": "stream",
     "text": [
      "<class 'pandas.core.frame.DataFrame'>\n",
      "Index: 498 entries, 0 to 558\n",
      "Data columns (total 25 columns):\n",
      " #   Column                        Non-Null Count  Dtype  \n",
      "---  ------                        --------------  -----  \n",
      " 0   Unnamed: 0                    498 non-null    int64  \n",
      " 1   Type_of_test                  498 non-null    object \n",
      " 2   Name_Of_The_Institution       498 non-null    object \n",
      " 3   Union                         498 non-null    float64\n",
      " 4   Ward                          498 non-null    float64\n",
      " 5   AP_CODE                       498 non-null    int64  \n",
      " 6   Patient_Age                   498 non-null    int64  \n",
      " 7   Patient_Weight                498 non-null    float64\n",
      " 8   Patient_Gender                498 non-null    object \n",
      " 9   Occupation                    498 non-null    object \n",
      " 10  Race_Group                    498 non-null    object \n",
      " 11  Type_of_disease               498 non-null    object \n",
      " 12  Patient_is_referred           498 non-null    object \n",
      " 13  Date_of_doing_test            498 non-null    object \n",
      " 14  Date_of_Initiation_Treatment  498 non-null    object \n",
      " 15  submission_time               498 non-null    object \n",
      " 16  Case_identification           498 non-null    object \n",
      " 17  Patient_comes_from            498 non-null    object \n",
      " 18  Number_of_LLIN_House          498 non-null    float64\n",
      " 19  Used_LLIN_15_days             498 non-null    object \n",
      " 20  Type                          498 non-null    object \n",
      " 21  agegroup                      498 non-null    object \n",
      " 22  latitude                      498 non-null    float64\n",
      " 23  longitude                     498 non-null    float64\n",
      " 24  dt_filter                     498 non-null    object \n",
      "dtypes: float64(6), int64(3), object(16)\n",
      "memory usage: 101.2+ KB\n",
      "None\n"
     ]
    }
   ],
   "source": [
    "df = df.dropna(subset=['latitude'])\n",
    "print(df.info())"
   ]
  },
  {
   "cell_type": "code",
   "execution_count": 45,
   "metadata": {
    "vscode": {
     "languageId": "javascript"
    }
   },
   "outputs": [
    {
     "name": "stdout",
     "output_type": "stream",
     "text": [
      "   Unnamed: 0 Type_of_test Name_Of_The_Institution        Union          Ward  \\\n",
      "0           1          BSE                   EKATA  200351675.0  2.003517e+09   \n",
      "1           2          BSE                   EKATA  200351675.0  2.003517e+09   \n",
      "2           3          RDT                   EKATA  200351476.0  2.003515e+09   \n",
      "3           4          RDT                   EKATA  200351476.0  2.003515e+09   \n",
      "4           5          RDT                   EKATA  200351275.0  2.003513e+09   \n",
      "\n",
      "   AP_CODE  Patient_Age  Patient_Weight Patient_Gender  Occupation  ...  \\\n",
      "0      486           36            57.0           Male  Woodcutter  ...   \n",
      "1      480           48            56.0           Male  Woodcutter  ...   \n",
      "2      395            6            15.0           Male       Other  ...   \n",
      "3      445           27            50.0           Male  Woodcutter  ...   \n",
      "4      104            2            10.0           Male       Other  ...   \n",
      "\n",
      "  Case_identification Patient_comes_from Number_of_LLIN_House  \\\n",
      "0                 PCD                 No                  3.0   \n",
      "1                 PCD                 No                  4.0   \n",
      "2                 ACD                 No                  2.0   \n",
      "3                 ACD                Yes                  1.0   \n",
      "4                 ACD                 No                  3.0   \n",
      "\n",
      "  Used_LLIN_15_days  Type agegroup   latitude  longitude   dt_filter  \\\n",
      "0               Yes  kobo    31-40  21.772007  92.221622  2023-01-16   \n",
      "1               Yes  kobo    41-50  21.772004  92.221635  2023-01-16   \n",
      "2               Yes  kobo      <10  21.777063  92.199523  2023-01-16   \n",
      "3               Yes  kobo    21-30  21.777039  92.199521  2023-01-16   \n",
      "4               Yes  kobo      <10  21.777032  92.199517  2023-01-16   \n",
      "\n",
      "     division  \n",
      "0  Chattogram  \n",
      "1  Chattogram  \n",
      "2  Chattogram  \n",
      "3  Chattogram  \n",
      "4  Chattogram  \n",
      "\n",
      "[5 rows x 26 columns]\n"
     ]
    }
   ],
   "source": [
    "df['division'] = 'Chattogram'\n",
    "print(df.head())"
   ]
  },
  {
   "cell_type": "code",
   "execution_count": 47,
   "metadata": {
    "vscode": {
     "languageId": "javascript"
    }
   },
   "outputs": [
    {
     "name": "stdout",
     "output_type": "stream",
     "text": [
      "(498, 26)\n"
     ]
    }
   ],
   "source": [
    "print(df.shape)"
   ]
  },
  {
   "cell_type": "code",
   "execution_count": 44,
   "metadata": {},
   "outputs": [],
   "source": [
    "df.to_csv('../data/updated_visualization.csv', index=False)"
   ]
  },
  {
   "cell_type": "code",
   "execution_count": 2,
   "metadata": {},
   "outputs": [
    {
     "name": "stdout",
     "output_type": "stream",
     "text": [
      "   Unnamed: 0 Type_of_test Name_Of_The_Institution        Union          Ward  \\\n",
      "0           1          BSE                   EKATA  200351675.0  2.003517e+09   \n",
      "1           2          BSE                   EKATA  200351675.0  2.003517e+09   \n",
      "2           3          RDT                   EKATA  200351476.0  2.003515e+09   \n",
      "3           4          RDT                   EKATA  200351476.0  2.003515e+09   \n",
      "4           5          RDT                   EKATA  200351275.0  2.003513e+09   \n",
      "\n",
      "   AP_CODE  Patient_Age  Patient_Weight Patient_Gender  Occupation  ...  \\\n",
      "0      486           36            57.0           Male  Woodcutter  ...   \n",
      "1      480           48            56.0           Male  Woodcutter  ...   \n",
      "2      395            6            15.0           Male       Other  ...   \n",
      "3      445           27            50.0           Male  Woodcutter  ...   \n",
      "4      104            2            10.0           Male       Other  ...   \n",
      "\n",
      "  submission_time Case_identification Patient_comes_from Number_of_LLIN_House  \\\n",
      "0      2023-01-16                 PCD                 No                  3.0   \n",
      "1      2023-01-16                 PCD                 No                  4.0   \n",
      "2      2023-01-16                 ACD                 No                  2.0   \n",
      "3      2023-01-16                 ACD                Yes                  1.0   \n",
      "4      2023-01-16                 ACD                 No                  3.0   \n",
      "\n",
      "  Used_LLIN_15_days  Type agegroup   latitude  longitude   dt_filter  \n",
      "0               Yes  kobo    31-40  21.772007  92.221622  2023-01-16  \n",
      "1               Yes  kobo    41-50  21.772004  92.221635  2023-01-16  \n",
      "2               Yes  kobo      <10  21.777063  92.199523  2023-01-16  \n",
      "3               Yes  kobo    21-30  21.777039  92.199521  2023-01-16  \n",
      "4               Yes  kobo      <10  21.777032  92.199517  2023-01-16  \n",
      "\n",
      "[5 rows x 25 columns]\n"
     ]
    }
   ],
   "source": [
    "df_new = pd.read_csv('../data/updated_visualization.csv')\n",
    "print(df_new.head())\n"
   ]
  }
 ],
 "metadata": {
  "kernelspec": {
   "display_name": ".venv",
   "language": "python",
   "name": "python3"
  },
  "language_info": {
   "codemirror_mode": {
    "name": "ipython",
    "version": 3
   },
   "file_extension": ".py",
   "mimetype": "text/x-python",
   "name": "python",
   "nbconvert_exporter": "python",
   "pygments_lexer": "ipython3",
   "version": "3.12.1"
  }
 },
 "nbformat": 4,
 "nbformat_minor": 2
}
