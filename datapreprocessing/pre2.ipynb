{
 "cells": [
  {
   "cell_type": "code",
   "execution_count": 167,
   "metadata": {},
   "outputs": [],
   "source": [
    "import pandas as pd"
   ]
  },
  {
   "cell_type": "code",
   "execution_count": 168,
   "metadata": {},
   "outputs": [
    {
     "name": "stdout",
     "output_type": "stream",
     "text": [
      "   Unnamed: 0 Type_of_test       Lab_Name Name_Of_The_Institution  \\\n",
      "0           1          BSE  Lama Mukh Lab                   EKATA   \n",
      "1           2          BSE  Lama Mukh Lab                   EKATA   \n",
      "2           3          RDT            NaN                   EKATA   \n",
      "3           4          RDT            NaN                   EKATA   \n",
      "4           5          RDT            NaN                   EKATA   \n",
      "\n",
      "         Union          Ward  AP_CODE  Patient_Age  Patient_Weight  \\\n",
      "0  200351675.0  2.003517e+09      486           36            57.0   \n",
      "1  200351675.0  2.003517e+09      480           48            56.0   \n",
      "2  200351476.0  2.003515e+09      395            6            15.0   \n",
      "3  200351476.0  2.003515e+09      445           27            50.0   \n",
      "4  200351275.0  2.003513e+09      104            2            10.0   \n",
      "\n",
      "  Patient_Gender  ... Lab_location_longitude Phone Date  Type agegroup  \\\n",
      "0           Male  ...              92.221622   NaN  NaN  kobo    31-40   \n",
      "1           Male  ...              92.221635   NaN  NaN  kobo    41-50   \n",
      "2           Male  ...                    NaN   NaN  NaN  kobo      <10   \n",
      "3           Male  ...                    NaN   NaN  NaN  kobo    21-30   \n",
      "4           Male  ...                    NaN   NaN  NaN  kobo      <10   \n",
      "\n",
      "  test_report test_treatment   latitude  longitude   dt_filter  \n",
      "0       0 day          1 day  21.772007  92.221622  2023-01-16  \n",
      "1       0 day          1 day  21.772004  92.221635  2023-01-16  \n",
      "2      2 days          1 day  21.777063  92.199523  2023-01-16  \n",
      "3      2 days          1 day  21.777039  92.199521  2023-01-16  \n",
      "4     4-7Days          1 day  21.777032  92.199517  2023-01-16  \n",
      "\n",
      "[5 rows x 39 columns]\n"
     ]
    }
   ],
   "source": [
    "df = pd.read_csv('../data/visualization.csv')\n",
    "# df_viz = pd.read_csv('../data/visualization.csv')\n",
    "df_upozila = pd.read_csv('../data/upazila.csv')\n",
    "print(df.head())"
   ]
  },
  {
   "cell_type": "code",
   "execution_count": 169,
   "metadata": {},
   "outputs": [
    {
     "name": "stdout",
     "output_type": "stream",
     "text": [
      "   Unnamed: 0 Type_of_test       Lab_Name Name_Of_The_Institution  \\\n",
      "0           1          BSE  Lama Mukh Lab                   EKATA   \n",
      "1           2          BSE  Lama Mukh Lab                   EKATA   \n",
      "2           3          RDT            NaN                   EKATA   \n",
      "3           4          RDT            NaN                   EKATA   \n",
      "4           5          RDT            NaN                   EKATA   \n",
      "\n",
      "         Union          Ward  AP_CODE  Patient_Age  Patient_Weight  \\\n",
      "0  200351675.0  2.003517e+09      486           36            57.0   \n",
      "1  200351675.0  2.003517e+09      480           48            56.0   \n",
      "2  200351476.0  2.003515e+09      395            6            15.0   \n",
      "3  200351476.0  2.003515e+09      445           27            50.0   \n",
      "4  200351275.0  2.003513e+09      104            2            10.0   \n",
      "\n",
      "  Patient_Gender  ... Date  Type agegroup test_report test_treatment  \\\n",
      "0           Male  ...  NaN  kobo    31-40       0 day          1 day   \n",
      "1           Male  ...  NaN  kobo    41-50       0 day          1 day   \n",
      "2           Male  ...  NaN  kobo      <10      2 days          1 day   \n",
      "3           Male  ...  NaN  kobo    21-30      2 days          1 day   \n",
      "4           Male  ...  NaN  kobo      <10     4-7Days          1 day   \n",
      "\n",
      "    latitude  longitude   dt_filter    DIVISION    DISTRICT  \n",
      "0  21.772007  92.221622  2023-01-16  Chattogram  Chattogram  \n",
      "1  21.772004  92.221635  2023-01-16  Chattogram  Chattogram  \n",
      "2  21.777063  92.199523  2023-01-16  Chattogram  Chattogram  \n",
      "3  21.777039  92.199521  2023-01-16  Chattogram  Chattogram  \n",
      "4  21.777032  92.199517  2023-01-16  Chattogram  Chattogram  \n",
      "\n",
      "[5 rows x 41 columns]\n"
     ]
    }
   ],
   "source": [
    "df['DIVISION'] = 'Chattogram'\n",
    "df['DISTRICT'] = 'Chattogram'\n",
    "print(df.head())"
   ]
  },
  {
   "cell_type": "code",
   "execution_count": 170,
   "metadata": {},
   "outputs": [],
   "source": [
    "# in df_upozila dataset column UN_WA_C_O and in df dataset column Union if it same"
   ]
  },
  {
   "cell_type": "code",
   "execution_count": 171,
   "metadata": {},
   "outputs": [
    {
     "name": "stdout",
     "output_type": "stream",
     "text": [
      "0    20035115.0\n",
      "1    20035115.0\n",
      "2    20035115.0\n",
      "3    20035115.0\n",
      "4    20035115.0\n",
      "Name: UN_WA_C_O, dtype: object\n"
     ]
    }
   ],
   "source": [
    "df_upozila['UN_WA_C_O'] = df_upozila['UN_WA_C_O'].astype(str) + '.0'\n",
    "print(df_upozila['UN_WA_C_O'].head())"
   ]
  },
  {
   "cell_type": "code",
   "execution_count": 172,
   "metadata": {},
   "outputs": [],
   "source": [
    "# df['UNION'] = df_upozila['UN_WA_C_O']\n",
    "# print(df.head())"
   ]
  },
  {
   "cell_type": "code",
   "execution_count": 173,
   "metadata": {
    "vscode": {
     "languageId": "ruby"
    }
   },
   "outputs": [
    {
     "name": "stdout",
     "output_type": "stream",
     "text": [
      "0       Rupushipara\n",
      "1       Rupushipara\n",
      "2        Lama Sadar\n",
      "3        Lama Sadar\n",
      "4           Fythong\n",
      "           ...     \n",
      "2513            NaN\n",
      "2514            NaN\n",
      "2515            NaN\n",
      "2516            NaN\n",
      "2517            NaN\n",
      "Name: UNION, Length: 2518, dtype: object\n"
     ]
    }
   ],
   "source": [
    "# Create a mapping from UN_WA_C_O to UN_WA_N_E\n",
    "mapping = df_upozila.set_index('UN_WA_C_N')['UN_WA_N_E'].to_dict()\n",
    "\n",
    "# Map the values to the Union column in df\n",
    "df['UNION'] = df['Union'].map(mapping)\n",
    "\n",
    "# Compare the values\n",
    "# if df['UNION_MAPPED'].equals(df['Union']):\n",
    "#     df['Union'] = df_upozila['UN_WA_N_E']\n",
    "#     print('yes')\n",
    "# else:\n",
    "#     print('no')\n",
    "\n",
    "print(df['UNION'])\n"
   ]
  },
  {
   "cell_type": "code",
   "execution_count": 174,
   "metadata": {
    "vscode": {
     "languageId": "ruby"
    }
   },
   "outputs": [
    {
     "data": {
      "text/plain": [
       "UNION\n",
       "Rupushipara        615\n",
       "Lama Sadar         496\n",
       "Gajalia            402\n",
       "Sarai              317\n",
       "Fasiakhali         213\n",
       "Fythong             49\n",
       "Lama Pourashava     37\n",
       "Aziznagar           21\n",
       "Name: count, dtype: int64"
      ]
     },
     "execution_count": 174,
     "metadata": {},
     "output_type": "execute_result"
    }
   ],
   "source": [
    "df['UNION'].value_counts()"
   ]
  },
  {
   "cell_type": "code",
   "execution_count": 175,
   "metadata": {},
   "outputs": [],
   "source": [
    "# Add new column 'upazila' to df dataset\n",
    "df['UPAZILA'] = ''\n"
   ]
  },
  {
   "cell_type": "code",
   "execution_count": 176,
   "metadata": {},
   "outputs": [
    {
     "name": "stdout",
     "output_type": "stream",
     "text": [
      "         UNION UPAZILA\n",
      "0  Rupushipara    Lama\n",
      "1  Rupushipara    Lama\n",
      "2   Lama Sadar    Lama\n",
      "3   Lama Sadar    Lama\n",
      "4      Fythong    Lama\n"
     ]
    }
   ],
   "source": [
    "# Define the list of UNION values that should map to UPAZILA = 'Lama'\n",
    "union_values = ['Aziznagar', 'Fasiakhali', 'Gajalia', 'Lama Sadar', 'Rupushipara', 'Sarai','Fythong','Lama Pourashava']\n",
    "\n",
    "# Update the UPAZILA column based on the condition\n",
    "df.loc[df['UNION'].isin(union_values), 'UPAZILA'] = 'Lama'\n",
    "\n",
    "# Print the updated dataframe to verify the changes\n",
    "print(df[['UNION', 'UPAZILA']].head())"
   ]
  },
  {
   "cell_type": "code",
   "execution_count": 177,
   "metadata": {},
   "outputs": [],
   "source": [
    "# Create a mapping from UN_WA_C_O to UN_WA_N_E\n",
    "# mapping = df_upozila.set_index('UN_WA_C_O')['UN_WA_N_E'].to_dict()\n",
    "\n",
    "# print(mapping)\n",
    "\n",
    "# # Map the values to the UNION column in df\n",
    "# df['UNION'] = df['Union'].map(mapping)\n",
    "# print(df.head())"
   ]
  },
  {
   "cell_type": "code",
   "execution_count": 178,
   "metadata": {},
   "outputs": [],
   "source": [
    "# df.to_csv('updated_dataset.csv', index=False)"
   ]
  },
  {
   "cell_type": "code",
   "execution_count": 179,
   "metadata": {},
   "outputs": [
    {
     "data": {
      "text/plain": [
       "Type\n",
       "kobo    2496\n",
       "sms       22\n",
       "Name: count, dtype: int64"
      ]
     },
     "execution_count": 179,
     "metadata": {},
     "output_type": "execute_result"
    }
   ],
   "source": [
    "df['Type'].value_counts()"
   ]
  },
  {
   "cell_type": "code",
   "execution_count": 180,
   "metadata": {},
   "outputs": [
    {
     "data": {
      "text/plain": [
       "Ward\n",
       "2.003513e+09    264\n",
       "2.003517e+09    252\n",
       "2.003515e+09    197\n",
       "2.003517e+09    159\n",
       "2.003517e+09    158\n",
       "               ... \n",
       "2.003513e+09      1\n",
       "2.003515e+09      1\n",
       "2.003516e+08      1\n",
       "2.003513e+09      1\n",
       "2.003042e+09      1\n",
       "Name: count, Length: 93, dtype: int64"
      ]
     },
     "execution_count": 180,
     "metadata": {},
     "output_type": "execute_result"
    }
   ],
   "source": [
    "df['Ward'].value_counts()"
   ]
  },
  {
   "cell_type": "code",
   "execution_count": 181,
   "metadata": {},
   "outputs": [
    {
     "name": "stdout",
     "output_type": "stream",
     "text": [
      "2513    2024-02-28\n",
      "2514    2024-02-28\n",
      "2515    2024-02-28\n",
      "2516    2024-02-28\n",
      "2517    2024-02-28\n",
      "Name: submission_time, dtype: object\n"
     ]
    },
    {
     "name": "stderr",
     "output_type": "stream",
     "text": [
      "/var/folders/38/g1lvjpcx3f1gtcdqjh6jyt1c0000gn/T/ipykernel_21517/3812267675.py:1: FutureWarning: A value is trying to be set on a copy of a DataFrame or Series through chained assignment using an inplace method.\n",
      "The behavior will change in pandas 3.0. This inplace method will never work because the intermediate object on which we are setting values always behaves as a copy.\n",
      "\n",
      "For example, when doing 'df[col].method(value, inplace=True)', try using 'df.method({col: value}, inplace=True)' or df[col] = df[col].method(value) instead, to perform the operation inplace on the original object.\n",
      "\n",
      "\n",
      "  df['submission_time'].fillna('2024-02-28', inplace=True)\n"
     ]
    }
   ],
   "source": [
    "df['submission_time'].fillna('2024-02-28', inplace=True)\n",
    "print(df['submission_time'].tail())"
   ]
  },
  {
   "cell_type": "code",
   "execution_count": 182,
   "metadata": {},
   "outputs": [
    {
     "name": "stdout",
     "output_type": "stream",
     "text": [
      "Number of null values in UNION column: 368\n"
     ]
    }
   ],
   "source": [
    "null_union_count = df['UNION'].isnull().sum()\n",
    "print(f\"Number of null values in UNION column: {null_union_count}\")"
   ]
  },
  {
   "cell_type": "code",
   "execution_count": 183,
   "metadata": {},
   "outputs": [
    {
     "name": "stdout",
     "output_type": "stream",
     "text": [
      "2513    Lama Sadar\n",
      "2514    Lama Sadar\n",
      "2515    Lama Sadar\n",
      "2516    Lama Sadar\n",
      "2517    Lama Sadar\n",
      "Name: UNION, dtype: object\n"
     ]
    },
    {
     "name": "stderr",
     "output_type": "stream",
     "text": [
      "/var/folders/38/g1lvjpcx3f1gtcdqjh6jyt1c0000gn/T/ipykernel_21517/1282328229.py:1: FutureWarning: A value is trying to be set on a copy of a DataFrame or Series through chained assignment using an inplace method.\n",
      "The behavior will change in pandas 3.0. This inplace method will never work because the intermediate object on which we are setting values always behaves as a copy.\n",
      "\n",
      "For example, when doing 'df[col].method(value, inplace=True)', try using 'df.method({col: value}, inplace=True)' or df[col] = df[col].method(value) instead, to perform the operation inplace on the original object.\n",
      "\n",
      "\n",
      "  df['UNION'].fillna('Lama Sadar', inplace=True)\n"
     ]
    }
   ],
   "source": [
    "df['UNION'].fillna('Lama Sadar', inplace=True)\n",
    "print(df['UNION'].tail())"
   ]
  },
  {
   "cell_type": "code",
   "execution_count": 184,
   "metadata": {},
   "outputs": [
    {
     "name": "stdout",
     "output_type": "stream",
     "text": [
      "UPAZILA\n",
      "Lama    2518\n",
      "Name: count, dtype: int64\n"
     ]
    }
   ],
   "source": [
    "df.loc[df['UPAZILA'] != 'Lama', 'UPAZILA'] = 'Lama'\n",
    "print(df['UPAZILA'].value_counts())"
   ]
  },
  {
   "cell_type": "code",
   "execution_count": 185,
   "metadata": {},
   "outputs": [
    {
     "name": "stdout",
     "output_type": "stream",
     "text": [
      "UPAZILA\n",
      "Lama    2518\n",
      "Name: count, dtype: int64\n"
     ]
    }
   ],
   "source": [
    "upazila_counts = df['UPAZILA'].value_counts()\n",
    "print(upazila_counts)"
   ]
  },
  {
   "cell_type": "code",
   "execution_count": 186,
   "metadata": {},
   "outputs": [],
   "source": [
    "# # Update the UPAZILA and UNION columns based on the condition\n",
    "# df.loc[(df['UPAZILA'].isnull()) & (df['UNION'].isnull()), ['UPAZILA', 'UNION']] = ['Lama', 'Lama Sadar']\n",
    "\n",
    "# # Print the updated dataframe to verify the changes\n",
    "# print(df[['UPAZILA', 'UNION']].tail())"
   ]
  },
  {
   "cell_type": "code",
   "execution_count": 187,
   "metadata": {},
   "outputs": [],
   "source": [
    "df.to_csv('updated_dataset.csv', index=False)"
   ]
  }
 ],
 "metadata": {
  "kernelspec": {
   "display_name": ".venv",
   "language": "python",
   "name": "python3"
  },
  "language_info": {
   "codemirror_mode": {
    "name": "ipython",
    "version": 3
   },
   "file_extension": ".py",
   "mimetype": "text/x-python",
   "name": "python",
   "nbconvert_exporter": "python",
   "pygments_lexer": "ipython3",
   "version": "3.12.1"
  }
 },
 "nbformat": 4,
 "nbformat_minor": 2
}
