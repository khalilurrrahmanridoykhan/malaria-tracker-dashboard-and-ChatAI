{
 "cells": [
  {
   "cell_type": "code",
   "execution_count": 31,
   "metadata": {},
   "outputs": [],
   "source": [
    "import pandas as pd"
   ]
  },
  {
   "cell_type": "code",
   "execution_count": 32,
   "metadata": {},
   "outputs": [
    {
     "name": "stdout",
     "output_type": "stream",
     "text": [
      "   Unnamed: 0 Type_of_test       Lab_Name Name_Of_The_Institution  \\\n",
      "0           1          BSE  Lama Mukh Lab                   EKATA   \n",
      "1           2          BSE  Lama Mukh Lab                   EKATA   \n",
      "2           3          RDT            NaN                   EKATA   \n",
      "3           4          RDT            NaN                   EKATA   \n",
      "4           5          RDT            NaN                   EKATA   \n",
      "\n",
      "         Union          Ward  AP_CODE  Patient_Age  Patient_Weight  \\\n",
      "0  200351675.0  2.003517e+09      486           36            57.0   \n",
      "1  200351675.0  2.003517e+09      480           48            56.0   \n",
      "2  200351476.0  2.003515e+09      395            6            15.0   \n",
      "3  200351476.0  2.003515e+09      445           27            50.0   \n",
      "4  200351275.0  2.003513e+09      104            2            10.0   \n",
      "\n",
      "  Patient_Gender  ... Lab_location_longitude Phone Date  Type agegroup  \\\n",
      "0           Male  ...              92.221622   NaN  NaN  kobo    31-40   \n",
      "1           Male  ...              92.221635   NaN  NaN  kobo    41-50   \n",
      "2           Male  ...                    NaN   NaN  NaN  kobo      <10   \n",
      "3           Male  ...                    NaN   NaN  NaN  kobo    21-30   \n",
      "4           Male  ...                    NaN   NaN  NaN  kobo      <10   \n",
      "\n",
      "  test_report test_treatment   latitude  longitude   dt_filter  \n",
      "0       0 day          1 day  21.772007  92.221622  2023-01-16  \n",
      "1       0 day          1 day  21.772004  92.221635  2023-01-16  \n",
      "2      2 days          1 day  21.777063  92.199523  2023-01-16  \n",
      "3      2 days          1 day  21.777039  92.199521  2023-01-16  \n",
      "4     4-7Days          1 day  21.777032  92.199517  2023-01-16  \n",
      "\n",
      "[5 rows x 39 columns]\n"
     ]
    }
   ],
   "source": [
    "df = pd.read_csv('../data/visualization.csv')\n",
    "# df_viz = pd.read_csv('../data/visualization.csv')\n",
    "df_upozila = pd.read_csv('../data/upazila.csv')\n",
    "print(df.head())"
   ]
  },
  {
   "cell_type": "code",
   "execution_count": 33,
   "metadata": {},
   "outputs": [
    {
     "name": "stdout",
     "output_type": "stream",
     "text": [
      "   Unnamed: 0 Type_of_test       Lab_Name Name_Of_The_Institution  \\\n",
      "0           1          BSE  Lama Mukh Lab                   EKATA   \n",
      "1           2          BSE  Lama Mukh Lab                   EKATA   \n",
      "2           3          RDT            NaN                   EKATA   \n",
      "3           4          RDT            NaN                   EKATA   \n",
      "4           5          RDT            NaN                   EKATA   \n",
      "\n",
      "         Union          Ward  AP_CODE  Patient_Age  Patient_Weight  \\\n",
      "0  200351675.0  2.003517e+09      486           36            57.0   \n",
      "1  200351675.0  2.003517e+09      480           48            56.0   \n",
      "2  200351476.0  2.003515e+09      395            6            15.0   \n",
      "3  200351476.0  2.003515e+09      445           27            50.0   \n",
      "4  200351275.0  2.003513e+09      104            2            10.0   \n",
      "\n",
      "  Patient_Gender  ... Date  Type agegroup test_report test_treatment  \\\n",
      "0           Male  ...  NaN  kobo    31-40       0 day          1 day   \n",
      "1           Male  ...  NaN  kobo    41-50       0 day          1 day   \n",
      "2           Male  ...  NaN  kobo      <10      2 days          1 day   \n",
      "3           Male  ...  NaN  kobo    21-30      2 days          1 day   \n",
      "4           Male  ...  NaN  kobo      <10     4-7Days          1 day   \n",
      "\n",
      "    latitude  longitude   dt_filter    DIVISION    DISTRICT  \n",
      "0  21.772007  92.221622  2023-01-16  Chattogram  Chattogram  \n",
      "1  21.772004  92.221635  2023-01-16  Chattogram  Chattogram  \n",
      "2  21.777063  92.199523  2023-01-16  Chattogram  Chattogram  \n",
      "3  21.777039  92.199521  2023-01-16  Chattogram  Chattogram  \n",
      "4  21.777032  92.199517  2023-01-16  Chattogram  Chattogram  \n",
      "\n",
      "[5 rows x 41 columns]\n"
     ]
    }
   ],
   "source": [
    "df['DIVISION'] = 'Chattogram'\n",
    "df['DISTRICT'] = 'Chattogram'\n",
    "print(df.head())"
   ]
  },
  {
   "cell_type": "code",
   "execution_count": 34,
   "metadata": {},
   "outputs": [],
   "source": [
    "# in df_upozila dataset column UN_WA_C_O and in df dataset column Union if it same"
   ]
  },
  {
   "cell_type": "code",
   "execution_count": 35,
   "metadata": {},
   "outputs": [
    {
     "name": "stdout",
     "output_type": "stream",
     "text": [
      "0    20035115.0\n",
      "1    20035115.0\n",
      "2    20035115.0\n",
      "3    20035115.0\n",
      "4    20035115.0\n",
      "Name: UN_WA_C_O, dtype: object\n"
     ]
    }
   ],
   "source": [
    "df_upozila['UN_WA_C_O'] = df_upozila['UN_WA_C_O'].astype(str) + '.0'\n",
    "print(df_upozila['UN_WA_C_O'].head())"
   ]
  },
  {
   "cell_type": "code",
   "execution_count": 36,
   "metadata": {},
   "outputs": [],
   "source": [
    "# df['UNION'] = df_upozila['UN_WA_C_O']\n",
    "# print(df.head())"
   ]
  },
  {
   "cell_type": "code",
   "execution_count": 37,
   "metadata": {
    "vscode": {
     "languageId": "ruby"
    }
   },
   "outputs": [
    {
     "name": "stdout",
     "output_type": "stream",
     "text": [
      "0       Rupushipara\n",
      "1       Rupushipara\n",
      "2        Lama Sadar\n",
      "3        Lama Sadar\n",
      "4           Fythong\n",
      "           ...     \n",
      "2513            NaN\n",
      "2514            NaN\n",
      "2515            NaN\n",
      "2516            NaN\n",
      "2517            NaN\n",
      "Name: UNION, Length: 2518, dtype: object\n"
     ]
    }
   ],
   "source": [
    "# Create a mapping from UN_WA_C_O to UN_WA_N_E\n",
    "mapping = df_upozila.set_index('UN_WA_C_N')['UN_WA_N_E'].to_dict()\n",
    "\n",
    "# Map the values to the Union column in df\n",
    "df['UNION'] = df['Union'].map(mapping)\n",
    "\n",
    "# Compare the values\n",
    "# if df['UNION_MAPPED'].equals(df['Union']):\n",
    "#     df['Union'] = df_upozila['UN_WA_N_E']\n",
    "#     print('yes')\n",
    "# else:\n",
    "#     print('no')\n",
    "\n",
    "print(df['UNION'])\n"
   ]
  },
  {
   "cell_type": "code",
   "execution_count": 38,
   "metadata": {
    "vscode": {
     "languageId": "ruby"
    }
   },
   "outputs": [
    {
     "data": {
      "text/plain": [
       "UNION\n",
       "Rupushipara        615\n",
       "Lama Sadar         496\n",
       "Gajalia            402\n",
       "Sarai              317\n",
       "Fasiakhali         213\n",
       "Fythong             49\n",
       "Lama Pourashava     37\n",
       "Aziznagar           21\n",
       "Name: count, dtype: int64"
      ]
     },
     "execution_count": 38,
     "metadata": {},
     "output_type": "execute_result"
    }
   ],
   "source": [
    "df['UNION'].value_counts()"
   ]
  },
  {
   "cell_type": "code",
   "execution_count": 39,
   "metadata": {},
   "outputs": [],
   "source": [
    "# Add new column 'upazila' to df dataset\n",
    "df['UPAZILA'] = ''\n"
   ]
  },
  {
   "cell_type": "code",
   "execution_count": 40,
   "metadata": {},
   "outputs": [
    {
     "name": "stdout",
     "output_type": "stream",
     "text": [
      "         UNION UPAZILA\n",
      "0  Rupushipara    Lama\n",
      "1  Rupushipara    Lama\n",
      "2   Lama Sadar    Lama\n",
      "3   Lama Sadar    Lama\n",
      "4      Fythong    Lama\n"
     ]
    }
   ],
   "source": [
    "# Define the list of UNION values that should map to UPAZILA = 'Lama'\n",
    "union_values = ['Aziznagar', 'Fasiakhali', 'Gajalia', 'Lama Sadar', 'Rupushipara', 'Sarai','Fythong','Lama Pourashava']\n",
    "\n",
    "# Update the UPAZILA column based on the condition\n",
    "df.loc[df['UNION'].isin(union_values), 'UPAZILA'] = 'Lama'\n",
    "\n",
    "# Print the updated dataframe to verify the changes\n",
    "print(df[['UNION', 'UPAZILA']].head())"
   ]
  },
  {
   "cell_type": "code",
   "execution_count": 41,
   "metadata": {},
   "outputs": [],
   "source": [
    "# Create a mapping from UN_WA_C_O to UN_WA_N_E\n",
    "# mapping = df_upozila.set_index('UN_WA_C_O')['UN_WA_N_E'].to_dict()\n",
    "\n",
    "# print(mapping)\n",
    "\n",
    "# # Map the values to the UNION column in df\n",
    "# df['UNION'] = df['Union'].map(mapping)\n",
    "# print(df.head())"
   ]
  },
  {
   "cell_type": "code",
   "execution_count": null,
   "metadata": {},
   "outputs": [],
   "source": [
    "# df.to_csv('updated_dataset.csv', index=False)"
   ]
  },
  {
   "cell_type": "code",
   "execution_count": 43,
   "metadata": {},
   "outputs": [
    {
     "data": {
      "text/plain": [
       "Type\n",
       "kobo    2496\n",
       "sms       22\n",
       "Name: count, dtype: int64"
      ]
     },
     "execution_count": 43,
     "metadata": {},
     "output_type": "execute_result"
    }
   ],
   "source": [
    "df['Type'].value_counts()"
   ]
  },
  {
   "cell_type": "code",
   "execution_count": 45,
   "metadata": {},
   "outputs": [
    {
     "data": {
      "text/plain": [
       "Ward\n",
       "2.003513e+09    264\n",
       "2.003517e+09    252\n",
       "2.003515e+09    197\n",
       "2.003517e+09    159\n",
       "2.003517e+09    158\n",
       "               ... \n",
       "2.003513e+09      1\n",
       "2.003515e+09      1\n",
       "2.003516e+08      1\n",
       "2.003513e+09      1\n",
       "2.003042e+09      1\n",
       "Name: count, Length: 93, dtype: int64"
      ]
     },
     "execution_count": 45,
     "metadata": {},
     "output_type": "execute_result"
    }
   ],
   "source": [
    "df['Ward'].value_counts()"
   ]
  }
 ],
 "metadata": {
  "kernelspec": {
   "display_name": ".venv",
   "language": "python",
   "name": "python3"
  },
  "language_info": {
   "codemirror_mode": {
    "name": "ipython",
    "version": 3
   },
   "file_extension": ".py",
   "mimetype": "text/x-python",
   "name": "python",
   "nbconvert_exporter": "python",
   "pygments_lexer": "ipython3",
   "version": "3.12.1"
  }
 },
 "nbformat": 4,
 "nbformat_minor": 2
}
