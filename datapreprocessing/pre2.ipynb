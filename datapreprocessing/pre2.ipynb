{
 "cells": [
  {
   "cell_type": "code",
   "execution_count": 182,
   "metadata": {},
   "outputs": [],
   "source": [
    "import pandas as pd"
   ]
  },
  {
   "cell_type": "code",
   "execution_count": 183,
   "metadata": {},
   "outputs": [
    {
     "name": "stdout",
     "output_type": "stream",
     "text": [
      "   Unnamed: 0 Type_of_test Name_Of_The_Institution        Union          Ward  \\\n",
      "0           1          BSE                   EKATA  200351675.0  2.003517e+09   \n",
      "1           2          BSE                   EKATA  200351675.0  2.003517e+09   \n",
      "2           3          RDT                   EKATA  200351476.0  2.003515e+09   \n",
      "3           4          RDT                   EKATA  200351476.0  2.003515e+09   \n",
      "4           5          RDT                   EKATA  200351275.0  2.003513e+09   \n",
      "\n",
      "   AP_CODE  Patient_Age  Patient_Weight Patient_Gender  Occupation  ...  \\\n",
      "0      486           36            57.0           Male  Woodcutter  ...   \n",
      "1      480           48            56.0           Male  Woodcutter  ...   \n",
      "2      395            6            15.0           Male       Other  ...   \n",
      "3      445           27            50.0           Male  Woodcutter  ...   \n",
      "4      104            2            10.0           Male       Other  ...   \n",
      "\n",
      "  submission_time Case_identification Patient_comes_from Number_of_LLIN_House  \\\n",
      "0      2023-01-16                 PCD                 No                  3.0   \n",
      "1      2023-01-16                 PCD                 No                  4.0   \n",
      "2      2023-01-16                 ACD                 No                  2.0   \n",
      "3      2023-01-16                 ACD                Yes                  1.0   \n",
      "4      2023-01-16                 ACD                 No                  3.0   \n",
      "\n",
      "  Used_LLIN_15_days  Type agegroup   latitude  longitude   dt_filter  \n",
      "0               Yes  kobo    31-40  21.772007  92.221622  2023-01-16  \n",
      "1               Yes  kobo    41-50  21.772004  92.221635  2023-01-16  \n",
      "2               Yes  kobo      <10  21.777063  92.199523  2023-01-16  \n",
      "3               Yes  kobo    21-30  21.777039  92.199521  2023-01-16  \n",
      "4               Yes  kobo      <10  21.777032  92.199517  2023-01-16  \n",
      "\n",
      "[5 rows x 25 columns]\n"
     ]
    }
   ],
   "source": [
    "df = pd.read_csv('../data/updated_visualization.csv')\n",
    "df_upozila = pd.read_csv('../data/upazila.csv')\n",
    "print(df.head())"
   ]
  },
  {
   "cell_type": "code",
   "execution_count": 184,
   "metadata": {},
   "outputs": [
    {
     "name": "stdout",
     "output_type": "stream",
     "text": [
      "   Unnamed: 0 Type_of_test Name_Of_The_Institution        Union          Ward  \\\n",
      "0           1          BSE                   EKATA  200351675.0  2.003517e+09   \n",
      "1           2          BSE                   EKATA  200351675.0  2.003517e+09   \n",
      "2           3          RDT                   EKATA  200351476.0  2.003515e+09   \n",
      "3           4          RDT                   EKATA  200351476.0  2.003515e+09   \n",
      "4           5          RDT                   EKATA  200351275.0  2.003513e+09   \n",
      "\n",
      "   AP_CODE  Patient_Age  Patient_Weight Patient_Gender  Occupation  ...  \\\n",
      "0      486           36            57.0           Male  Woodcutter  ...   \n",
      "1      480           48            56.0           Male  Woodcutter  ...   \n",
      "2      395            6            15.0           Male       Other  ...   \n",
      "3      445           27            50.0           Male  Woodcutter  ...   \n",
      "4      104            2            10.0           Male       Other  ...   \n",
      "\n",
      "  Patient_comes_from Number_of_LLIN_House Used_LLIN_15_days  Type agegroup  \\\n",
      "0                 No                  3.0               Yes  kobo    31-40   \n",
      "1                 No                  4.0               Yes  kobo    41-50   \n",
      "2                 No                  2.0               Yes  kobo      <10   \n",
      "3                Yes                  1.0               Yes  kobo    21-30   \n",
      "4                 No                  3.0               Yes  kobo      <10   \n",
      "\n",
      "    latitude  longitude   dt_filter    DIVISION    DISTRICT  \n",
      "0  21.772007  92.221622  2023-01-16  Chattogram  Chattogram  \n",
      "1  21.772004  92.221635  2023-01-16  Chattogram  Chattogram  \n",
      "2  21.777063  92.199523  2023-01-16  Chattogram  Chattogram  \n",
      "3  21.777039  92.199521  2023-01-16  Chattogram  Chattogram  \n",
      "4  21.777032  92.199517  2023-01-16  Chattogram  Chattogram  \n",
      "\n",
      "[5 rows x 27 columns]\n"
     ]
    }
   ],
   "source": [
    "df['DIVISION'] = 'Chattogram'\n",
    "df['DISTRICT'] = 'Chattogram'\n",
    "print(df.head())"
   ]
  },
  {
   "cell_type": "code",
   "execution_count": 185,
   "metadata": {},
   "outputs": [],
   "source": [
    "# in df_upozila dataset column UN_WA_C_O and in df dataset column Union if it same"
   ]
  },
  {
   "cell_type": "code",
   "execution_count": 186,
   "metadata": {},
   "outputs": [
    {
     "name": "stdout",
     "output_type": "stream",
     "text": [
      "0    20035115.0\n",
      "1    20035115.0\n",
      "2    20035115.0\n",
      "3    20035115.0\n",
      "4    20035115.0\n",
      "Name: UN_WA_C_O, dtype: object\n"
     ]
    }
   ],
   "source": [
    "df_upozila['UN_WA_C_O'] = df_upozila['UN_WA_C_O'].astype(str) + '.0'\n",
    "print(df_upozila['UN_WA_C_O'].head())"
   ]
  },
  {
   "cell_type": "code",
   "execution_count": 187,
   "metadata": {},
   "outputs": [],
   "source": [
    "# df['UNION'] = df_upozila['UN_WA_C_O']\n",
    "# print(df.head())"
   ]
  },
  {
   "cell_type": "code",
   "execution_count": 188,
   "metadata": {
    "vscode": {
     "languageId": "ruby"
    }
   },
   "outputs": [
    {
     "name": "stdout",
     "output_type": "stream",
     "text": [
      "0      Rupushipara\n",
      "1      Rupushipara\n",
      "2       Lama Sadar\n",
      "3       Lama Sadar\n",
      "4          Fythong\n",
      "          ...     \n",
      "493    Rupushipara\n",
      "494    Rupushipara\n",
      "495    Rupushipara\n",
      "496    Rupushipara\n",
      "497    Rupushipara\n",
      "Name: UNION, Length: 498, dtype: object\n"
     ]
    }
   ],
   "source": [
    "# Create a mapping from UN_WA_C_O to UN_WA_N_E\n",
    "mapping = df_upozila.set_index('UN_WA_C_N')['UN_WA_N_E'].to_dict()\n",
    "\n",
    "# Map the values to the Union column in df\n",
    "df['UNION'] = df['Union'].map(mapping)\n",
    "\n",
    "# Compare the values\n",
    "# if df['UNION_MAPPED'].equals(df['Union']):\n",
    "#     df['Union'] = df_upozila['UN_WA_N_E']\n",
    "#     print('yes')\n",
    "# else:\n",
    "#     print('no')\n",
    "\n",
    "print(df['UNION'])\n"
   ]
  },
  {
   "cell_type": "code",
   "execution_count": 189,
   "metadata": {
    "vscode": {
     "languageId": "ruby"
    }
   },
   "outputs": [
    {
     "data": {
      "text/plain": [
       "UNION\n",
       "Rupushipara        149\n",
       "Lama Sadar         103\n",
       "Gajalia             97\n",
       "Sarai               79\n",
       "Fasiakhali          51\n",
       "Aziznagar           12\n",
       "Lama Pourashava      6\n",
       "Fythong              1\n",
       "Name: count, dtype: int64"
      ]
     },
     "execution_count": 189,
     "metadata": {},
     "output_type": "execute_result"
    }
   ],
   "source": [
    "df['UNION'].value_counts()"
   ]
  },
  {
   "cell_type": "code",
   "execution_count": 190,
   "metadata": {},
   "outputs": [],
   "source": [
    "# Add new column 'upazila' to df dataset\n",
    "df['UPAZILA'] = ''\n"
   ]
  },
  {
   "cell_type": "code",
   "execution_count": 191,
   "metadata": {},
   "outputs": [
    {
     "name": "stdout",
     "output_type": "stream",
     "text": [
      "         UNION UPAZILA\n",
      "0  Rupushipara    Lama\n",
      "1  Rupushipara    Lama\n",
      "2   Lama Sadar    Lama\n",
      "3   Lama Sadar    Lama\n",
      "4      Fythong    Lama\n"
     ]
    }
   ],
   "source": [
    "# Define the list of UNION values that should map to UPAZILA = 'Lama'\n",
    "union_values = ['Aziznagar', 'Fasiakhali', 'Gajalia', 'Lama Sadar', 'Rupushipara', 'Sarai','Fythong','Lama Pourashava']\n",
    "\n",
    "# Update the UPAZILA column based on the condition\n",
    "df.loc[df['UNION'].isin(union_values), 'UPAZILA'] = 'Lama'\n",
    "\n",
    "# Print the updated dataframe to verify the changes\n",
    "print(df[['UNION', 'UPAZILA']].head())"
   ]
  },
  {
   "cell_type": "code",
   "execution_count": 192,
   "metadata": {},
   "outputs": [],
   "source": [
    "# Create a mapping from UN_WA_C_O to UN_WA_N_E\n",
    "# mapping = df_upozila.set_index('UN_WA_C_O')['UN_WA_N_E'].to_dict()\n",
    "\n",
    "# print(mapping)\n",
    "\n",
    "# # Map the values to the UNION column in df\n",
    "# df['UNION'] = df['Union'].map(mapping)\n",
    "# print(df.head())"
   ]
  },
  {
   "cell_type": "code",
   "execution_count": 193,
   "metadata": {},
   "outputs": [],
   "source": [
    "df.to_csv('updated_dataset.csv', index=False)"
   ]
  }
 ],
 "metadata": {
  "kernelspec": {
   "display_name": ".venv",
   "language": "python",
   "name": "python3"
  },
  "language_info": {
   "codemirror_mode": {
    "name": "ipython",
    "version": 3
   },
   "file_extension": ".py",
   "mimetype": "text/x-python",
   "name": "python",
   "nbconvert_exporter": "python",
   "pygments_lexer": "ipython3",
   "version": "3.12.1"
  }
 },
 "nbformat": 4,
 "nbformat_minor": 2
}
